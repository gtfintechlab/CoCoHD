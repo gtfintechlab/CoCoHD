{
 "cells": [
  {
   "cell_type": "code",
   "execution_count": 2,
   "metadata": {},
   "outputs": [],
   "source": [
    "import re\n",
    "import os\n",
    "import json"
   ]
  },
  {
   "cell_type": "code",
   "execution_count": 30,
   "metadata": {},
   "outputs": [
    {
     "name": "stdout",
     "output_type": "stream",
     "text": [
      "SUBCOMMITTEE ON FINANCE AND HAZARDOUS MATERIALS\n"
     ]
    }
   ],
   "source": [
    "import os\n",
    "import re\n",
    "\n",
    "# Set the directory (make sure to replace the path with the correct one)\n",
    "os.chdir(\"/home/congress-user/congress-committee/datasets/hearing_transcripts\")\n",
    "\n",
    "# Define the filename\n",
    "filename = 'CHRG-106hhrg67121.txt'\n",
    "\n",
    "# Open the file for reading\n",
    "with open(filename, \"r\") as file:\n",
    "    # Read the entire file as a single string\n",
    "    text = file.read()\n",
    "    # Use regex to find all instances of \"SUBCOMMITTEE ON\" followed by capital letters with any whitespace characters (including newlines)\n",
    "    matches = re.findall(r'SUBCOMMITTEE ON\\s+[A-Z\\s]+', text)\n",
    "\n",
    "# Process and print the matches\n",
    "formatted_matches = [re.sub(r'\\s+', ' ', match).strip() for match in matches]\n",
    "for match in formatted_matches:\n",
    "    print(match)\n"
   ]
  },
  {
   "cell_type": "code",
   "execution_count": 32,
   "metadata": {},
   "outputs": [
    {
     "name": "stdout",
     "output_type": "stream",
     "text": [
      "SUBCOMMITTEE OF THE COMMITTEE ON APPROPRIATIONS UNITED STATES SENATE ONE HUNDRED FIFTH CONGRESS FIRST SESSION\n"
     ]
    }
   ],
   "source": [
    "import os\n",
    "import re\n",
    "\n",
    "# Set the directory (make sure to replace the path with the correct one)\n",
    "os.chdir(\"/home/congress-user/congress-committee/datasets/hearing_transcripts\")\n",
    "\n",
    "# Define the filename\n",
    "filename = 'CHRG-105shrg39641.txt'\n",
    "\n",
    "# Open the file for reading\n",
    "with open(filename, \"r\") as file:\n",
    "    # Read the entire file as a single string\n",
    "    text = file.read()\n",
    "    # Use regex to find all instances of \"SUBCOMMITTEE ON\" or \"SUBCOMMITTEE OF\" followed by capital letters with any whitespace characters (including newlines)\n",
    "    matches = re.findall(r'SUBCOMMITTEE (?:ON|OF)\\s+[A-Z\\s]+', text)\n",
    "\n",
    "# Process and print the matches\n",
    "formatted_matches = [re.sub(r'\\s+', ' ', match).strip() for match in matches]\n",
    "for match in formatted_matches:\n",
    "    print(match)\n"
   ]
  },
  {
   "cell_type": "code",
   "execution_count": 35,
   "metadata": {},
   "outputs": [
    {
     "name": "stdout",
     "output_type": "stream",
     "text": [
      "SUBCOMMITTEE OF THE COMMITTEE ON APPROPRIATIONS UNITED STATES SENATE ONE HUNDRED FIFTH CONGRESS FIRST SESSION\n"
     ]
    }
   ],
   "source": [
    "import os\n",
    "import re\n",
    "\n",
    "# Set the directory (make sure to replace the path with the correct one)\n",
    "os.chdir(\"/home/congress-user/congress-committee/datasets/hearing_transcripts\")\n",
    "\n",
    "# Define the filename\n",
    "filename = 'CHRG-105shrg39641.txt'\n",
    "\n",
    "# Open the file for reading\n",
    "with open(filename, \"r\") as file:\n",
    "    # Read the entire file as a single string\n",
    "    text = file.read()\n",
    "    \n",
    "    # Use regex to find all instances of \"SUBCOMMITTEE ON\" or \"SUBCOMMITTEE OF\" followed by capital letters with any whitespace characters (including newlines)\n",
    "    matches_upper = re.findall(r'SUBCOMMITTEE (?:ON|OF)\\s+[A-Z\\s]+', text)\n",
    "    \n",
    "    # Use regex to find all instances of \"Subcommittee on\" with specific pattern surrounding it\n",
    "    matches_lower = re.findall(r'\\s+\\n\\s+Subcommittee on\\s+[A-Z][a-z,]+\\s*(?:,\\s*[A-Z][a-z,]+)*,\\n\\s+', text)\n",
    "\n",
    "# Combine both match lists\n",
    "matches = matches_upper + matches_lower\n",
    "\n",
    "# Process and print the matches\n",
    "formatted_matches = [re.sub(r'\\s+', ' ', match).strip() for match in matches]\n",
    "for match in formatted_matches:\n",
    "    print(match)\n"
   ]
  },
  {
   "cell_type": "code",
   "execution_count": 37,
   "metadata": {},
   "outputs": [
    {
     "name": "stdout",
     "output_type": "stream",
     "text": [
      "SUBCOMMITTEE OF THE COMMITTEE ON APPROPRIATIONS UNITED STATES SENATE ONE HUNDRED FIFTH CONGRESS FIRST SESSION\n",
      "Subcommittee on Departments of Labor, Health and Human Services, and Education, and Related Agencies ARLEN SPECTER, Pennsylvania, Chairman\n",
      "Subcommittee on Labor, Health and Human Services, and Education, and Related Agencies, Committee on Appropriations,\n"
     ]
    }
   ],
   "source": [
    "import os\n",
    "import re\n",
    "\n",
    "# Set the directory (make sure to replace the path with the correct one)\n",
    "os.chdir(\"/home/congress-user/congress-committee/datasets/hearing_transcripts\")\n",
    "\n",
    "# Define the filename\n",
    "filename = 'CHRG-105shrg39641.txt'\n",
    "\n",
    "# Open the file for reading\n",
    "with open(filename, \"r\") as file:\n",
    "    # Read the entire file as a single string\n",
    "    text = file.read()\n",
    "    \n",
    "    # Use regex to find all instances of \"SUBCOMMITTEE ON\" or \"SUBCOMMITTEE OF\" followed by capital letters with any whitespace characters (including newlines)\n",
    "    matches_upper = re.findall(r'SUBCOMMITTEE (?:ON|OF)\\s+[A-Z\\s]+', text)\n",
    "    \n",
    "    # Use regex to find all instances of \"Subcommittee on\" with specific pattern surrounding it\n",
    "    matches_lower = re.findall(r'\\n\\s+Subcommittee on [A-Z][a-zA-Z\\s,]+\\n\\s+', text)\n",
    "\n",
    "# Combine both match lists\n",
    "matches = matches_upper + matches_lower\n",
    "\n",
    "# Process and print the matches\n",
    "formatted_matches = [re.sub(r'\\s+', ' ', match).strip() for match in matches]\n",
    "for match in formatted_matches:\n",
    "    print(match)\n"
   ]
  },
  {
   "cell_type": "code",
   "execution_count": null,
   "metadata": {},
   "outputs": [],
   "source": []
  }
 ],
 "metadata": {
  "kernelspec": {
   "display_name": "Python 3",
   "language": "python",
   "name": "python3"
  },
  "language_info": {
   "codemirror_mode": {
    "name": "ipython",
    "version": 3
   },
   "file_extension": ".py",
   "mimetype": "text/x-python",
   "name": "python",
   "nbconvert_exporter": "python",
   "pygments_lexer": "ipython3",
   "version": "3.8.10"
  }
 },
 "nbformat": 4,
 "nbformat_minor": 2
}
